{
 "cells": [
  {
   "cell_type": "code",
   "execution_count": 2,
   "metadata": {},
   "outputs": [],
   "source": [
    "import os\n",
    "import pandas as pd\n",
    "import shutil\n",
    "\n",
    "import torch\n",
    "import torchio as tio"
   ]
  },
  {
   "cell_type": "code",
   "execution_count": 3,
   "metadata": {},
   "outputs": [
    {
     "data": {
      "text/plain": [
       "'../datasets/cmrxmotion/train_aug/IQA.csv'"
      ]
     },
     "execution_count": 3,
     "metadata": {},
     "output_type": "execute_result"
    }
   ],
   "source": [
    "SRC_PATH = \"../datasets/cmrxmotion/train/\"\n",
    "DST_PATH = \"../datasets/cmrxmotion/train_aug/\"\n",
    "os.makedirs(DST_PATH, exist_ok=True)\n",
    "\n",
    "src_path_data = os.path.join(SRC_PATH, \"data\")\n",
    "dst_path_data = os.path.join(DST_PATH, \"data\")\n",
    "os.makedirs(dst_path_data, exist_ok=True)\n",
    "\n",
    "src_label_info = os.path.join(SRC_PATH, \"IQA.csv\")\n",
    "dst_label_info = os.path.join(DST_PATH, \"IQA.csv\")\n",
    "shutil.copy(src_label_info, dst_label_info)"
   ]
  },
  {
   "cell_type": "code",
   "execution_count": 4,
   "metadata": {},
   "outputs": [],
   "source": [
    "# Transfer original files from SRC to DST\n",
    "for case in sorted(os.listdir(src_path_data)):\n",
    "    src_case_path = os.path.join(src_path_data, case)\n",
    "    dst_case_path = os.path.join(dst_path_data, case)\n",
    "    os.makedirs(dst_case_path, exist_ok=True)\n",
    "\n",
    "    for file in sorted(os.listdir(src_case_path)):\n",
    "        src_file_path = os.path.join(src_case_path, file)\n",
    "        dst_file_path = os.path.join(dst_case_path, file)\n",
    "        if \"label\" in file:\n",
    "            shutil.copy(src_file_path, dst_file_path)\n",
    "        else:\n",
    "            shutil.copy(src_file_path, dst_file_path)"
   ]
  },
  {
   "cell_type": "code",
   "execution_count": 15,
   "metadata": {},
   "outputs": [],
   "source": [
    "\"\"\"\n",
    "This block performs the following actions:\n",
    "    1) Reads the nifti files in SRC\n",
    "    2) Applies motion artefact or some other class with a similar disturbing effect on the nifti file\n",
    "    3) Rescales the new nifti file based on the min-max values of the original image\n",
    "    4) Appends to the IQA.csv file\n",
    "    5) Saves the new nifti file into the DST folder\n",
    "\n",
    "Notes:\n",
    "    1) This block assumes that the file/folder structure is already identical to the SRC dataset.\n",
    "\"\"\"\n",
    "# Generate moderate-level artefacts by using good-quality images\n",
    "df = pd.read_csv(src_label_info)\n",
    "dict_aug = {\"Image\": [], \"Label\": []}\n",
    "\n",
    "augment = tio.transforms.RandomMotion(degrees=(0.2, 0.25),\n",
    "                                      translation=0.,\n",
    "                                      num_transforms=2,\n",
    "                                    #   image_interpolation=\"lanczos\"\n",
    "                                      image_interpolation=\"linear\"\n",
    "                                      )\n",
    "\n",
    "for image, label in zip(df[\"Image\"], df[\"Label\"]):\n",
    "    if label == 1:\n",
    "        pid, mode, phase = image.split('-')\n",
    "\n",
    "        src_case_path = os.path.join(src_path_data, f\"{pid}-{mode}\")\n",
    "        dst_case_path = os.path.join(dst_path_data, f\"{pid}-{mode}_aug2\")\n",
    "        os.makedirs(dst_case_path, exist_ok=True)\n",
    "        \n",
    "        src_file_path = os.path.join(src_case_path, f\"{pid}-{mode}-{phase}.nii.gz\")\n",
    "        dst_file_path = os.path.join(dst_case_path, f\"{pid}-{mode}_aug2-{phase}.nii.gz\")\n",
    "        rescl_dst_file_path = os.path.join(dst_case_path, f\"{pid}-{mode}_aug2_rescl-{phase}.nii.gz\")\n",
    "        src_label_file_path = os.path.join(src_case_path, f\"{pid}-{mode}-{phase}-label.nii.gz\")\n",
    "        dst_label_file_path = os.path.join(dst_case_path, f\"{pid}-{mode}_aug2-{phase}-label.nii.gz\")\n",
    "    \n",
    "        cmr_image = tio.ScalarImage(src_file_path)\n",
    "        # max_val, min_val = cmr_image.data.max().item(), cmr_image.data.min().item()\n",
    "        # max_val, min_val = torch.quantile(cmr_image.data, torch.Tensor([0.997, 0.003]), interpolation='nearest')\n",
    "        augmented_cmr_image = augment(cmr_image)\n",
    "        max_val, min_val = augmented_cmr_image.data.max().item(), augmented_cmr_image.data.min().item()\n",
    "        rescaler = tio.RescaleIntensity(out_min_max=(0, max_val), percentiles=(1.0, 99.9))\n",
    "        rescaled_augmented_cmr_image = rescaler(augmented_cmr_image)\n",
    "\n",
    "        augmented_cmr_image.save(dst_file_path)\n",
    "        rescaled_augmented_cmr_image.save(rescl_dst_file_path)\n",
    "        shutil.copy(src_label_file_path, dst_label_file_path)\n",
    "\n",
    "        dict_aug[\"Image\"].append(f\"{pid}-{mode}_aug2-{phase}\")\n",
    "        dict_aug[\"Label\"].append(2)\n",
    "        \n",
    "df_aug = pd.DataFrame(dict_aug)\n",
    "df = pd.concat([df, df_aug], ignore_index=True)\n",
    "df.to_csv(dst_label_info, index=False)\n",
    "print(df)\n"
   ]
  },
  {
   "cell_type": "code",
   "execution_count": null,
   "metadata": {},
   "outputs": [
    {
     "name": "stdout",
     "output_type": "stream",
     "text": [
      "              Image  Label\n",
      "0         P001-1-ED      1\n",
      "1         P001-2-ED      2\n",
      "2         P001-3-ED      2\n",
      "3         P001-4-ED      1\n",
      "4         P001-1-ES      1\n",
      "..              ...    ...\n",
      "225  P019-4_aug3-ED      3\n",
      "226  P019-1_aug3-ES      3\n",
      "227  P019-4_aug3-ES      3\n",
      "228  P020-1_aug3-ED      3\n",
      "229  P020-1_aug3-ES      3\n",
      "\n",
      "[230 rows x 2 columns]\n"
     ]
    }
   ],
   "source": [
    "\"\"\"\n",
    "This block performs the following actions:\n",
    "    1) Reads the nifti files in SRC\n",
    "    2) Applies motion artefact or some other class with a similar disturbing effect on the nifti file\n",
    "    3) Rescales the new nifti file based on the min-max values of the original image\n",
    "    4) Appends to the IQA.csv file\n",
    "    5) Saves the new nifti file into the DST folder\n",
    "\n",
    "Notes:\n",
    "    1) This block assumes that the file/folder structure is already identical to the SRC dataset.\n",
    "\"\"\"\n",
    "# Generate moderate-level artefacts by using good-quality images\n",
    "df = pd.read_csv(dst_label_info)\n",
    "dict_aug = {\"Image\": [], \"Label\": []}\n",
    "\n",
    "augment = tio.transforms.RandomMotion(degrees=(0.45, 0.55),\n",
    "                                      translation=0.,\n",
    "                                      num_transforms=2,\n",
    "                                    #   image_interpolation=\"lanczos\"\n",
    "                                      image_interpolation=\"linear\"\n",
    "                                      )\n",
    "\n",
    "for image, label in zip(df[\"Image\"], df[\"Label\"]):\n",
    "    if label == 1:\n",
    "        pid, mode, phase = image.split('-')\n",
    "\n",
    "        src_case_path = os.path.join(src_path_data, f\"{pid}-{mode}\")\n",
    "        dst_case_path = os.path.join(dst_path_data, f\"{pid}-{mode}_aug3\")\n",
    "        os.makedirs(dst_case_path, exist_ok=True)\n",
    "        \n",
    "        src_file_path = os.path.join(src_case_path, f\"{pid}-{mode}-{phase}.nii.gz\")\n",
    "        dst_file_path = os.path.join(dst_case_path, f\"{pid}-{mode}_aug3-{phase}.nii.gz\")\n",
    "        rescl_dst_file_path = os.path.join(dst_case_path, f\"{pid}-{mode}_aug3_rescl-{phase}.nii.gz\")\n",
    "        src_label_file_path = os.path.join(src_case_path, f\"{pid}-{mode}-{phase}-label.nii.gz\")\n",
    "        dst_label_file_path = os.path.join(dst_case_path, f\"{pid}-{mode}_aug3-{phase}-label.nii.gz\")\n",
    "    \n",
    "        cmr_image = tio.ScalarImage(src_file_path)\n",
    "        # max_val, min_val = cmr_image.data.max().item(), cmr_image.data.min().item()\n",
    "        # max_val, min_val = torch.quantile(cmr_image.data, torch.Tensor([0.997, 0.003]), interpolation='nearest')\n",
    "        augmented_cmr_image = augment(cmr_image)\n",
    "        max_val, min_val = augmented_cmr_image.data.max().item(), augmented_cmr_image.data.min().item()\n",
    "        rescaler = tio.RescaleIntensity(out_min_max=(0, max_val), percentiles=(1.0, 99.9))\n",
    "        rescaled_augmented_cmr_image = rescaler(augmented_cmr_image)\n",
    "\n",
    "        augmented_cmr_image.save(dst_file_path)\n",
    "        rescaled_augmented_cmr_image.save(rescl_dst_file_path)\n",
    "        shutil.copy(src_label_file_path, dst_label_file_path)\n",
    "\n",
    "        dict_aug[\"Image\"].append(f\"{pid}-{mode}_aug3-{phase}\")\n",
    "        dict_aug[\"Label\"].append(3)\n",
    "        \n",
    "df_aug = pd.DataFrame(dict_aug)\n",
    "df = pd.concat([df, df_aug], ignore_index=True)\n",
    "df.to_csv(dst_label_info, index=False)\n",
    "print(df)\n"
   ]
  }
 ],
 "metadata": {
  "kernelspec": {
   "display_name": "Python 3.9.12 ('cmrxmotion')",
   "language": "python",
   "name": "python3"
  },
  "language_info": {
   "codemirror_mode": {
    "name": "ipython",
    "version": 3
   },
   "file_extension": ".py",
   "mimetype": "text/x-python",
   "name": "python",
   "nbconvert_exporter": "python",
   "pygments_lexer": "ipython3",
   "version": "3.9.12"
  },
  "orig_nbformat": 4,
  "vscode": {
   "interpreter": {
    "hash": "0b1fc6265b343e479cdf35b94852a7628ee2ae44352e71adc27ea9ef9aa194b7"
   }
  }
 },
 "nbformat": 4,
 "nbformat_minor": 2
}
