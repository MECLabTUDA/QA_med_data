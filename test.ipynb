{
 "cells": [
  {
   "cell_type": "code",
   "execution_count": null,
   "metadata": {},
   "outputs": [],
   "source": [
    "import os\n",
    "import tqdm\n",
    "import time\n",
    "from collections import defaultdict\n",
    "from sklearn.metrics import cohen_kappa_score\n",
    "\n",
    "import pandas as pd\n",
    "import numpy as np\n",
    "import matplotlib.pyplot as plt\n",
    "from sklearn.model_selection import KFold\n",
    "import torch\n",
    "import torch.nn as nn\n",
    "import torchvision.transforms as T\n",
    "import torch.nn.functional as F\n",
    "import torch.optim as optim\n",
    "\n",
    "import torchio as tio\n",
    "import torchvision\n",
    "from torchvision.models import resnet50\n",
    "\n",
    "import optuna\n",
    "from optuna.trial import TrialState\n",
    "\n",
    "from coral_pytorch.dataset import levels_from_labelbatch\n",
    "from coral_pytorch.dataset import proba_to_label, corn_label_from_logits\n",
    "\n",
    "from losses import get_loss\n",
    "from models import get_model\n",
    "from datasets import CMRxMOTION2DEval"
   ]
  },
  {
   "cell_type": "code",
   "execution_count": null,
   "metadata": {},
   "outputs": [],
   "source": [
    "%load_ext autoreload\n",
    "%autoreload 2"
   ]
  },
  {
   "cell_type": "code",
   "execution_count": null,
   "metadata": {},
   "outputs": [],
   "source": [
    "MODEL_TRAIN_DATE = \"2022-09-01-01-25-56\"         ### DATE OF THE TRAINING\n",
    "MODEL_FILENAME = \"0.8283.pth\"                    ### MODEL FILENAME WHICH IS DEFINED BY THE VAL SPLIT CK SCORE\n",
    "MODEL_NAME = \"EfficientNet_B5\"\n",
    "\n",
    "MODE_3D_2D = '2D'                                ### 3D/2D CONFIG? WILL AFFECT DATALOADER AND NETWORK ARCHITECTURE\n",
    "DATA_PATH = \"path_test\"        ### TO BE RECONFIGURED\n",
    "DEBUG = False                                    ### SWITCHING TO DEBUG MODE\n",
    "\n",
    "DEVICE = torch.device(\"cuda\")\n",
    "BATCH_SIZE = 16\n",
    "CLASSES = 3\n",
    "DIR = os.getcwd()\n",
    "# EPOCHS = 10\n",
    "# TRAIN_VAL_RATIO = 0.8\n",
    "# LOSS_NAME = \"FocalLoss\"\n",
    "# ALPHA = 0.25\n",
    "# GAMMA = 2.0\n",
    "# LR = 0.0008\n",
    "# OPTIMIZER_NAME = \"RMSprop\"\n",
    "USE_CORAL = False\n",
    "USE_CORN = True\n",
    "\n",
    "if MODE_3D_2D == '2D':\n",
    "    EPOCHS = 300\n"
   ]
  },
  {
   "cell_type": "code",
   "execution_count": null,
   "metadata": {},
   "outputs": [],
   "source": [
    "if MODE_3D_2D == \"3D\":\n",
    "    pass\n",
    "elif MODE_3D_2D == \"2D\":\n",
    "    # TODO: Test-time Augmentation??\n",
    "    # transforms_val_aug = T.Compose([\n",
    "    #     T.RandomAffine(degrees=120, translate=(0.,0.1), scale=(0.85, 1.15)),\n",
    "    #     T.CenterCrop(256),\n",
    "    #     T.ToTensor(),\n",
    "    #     T.ConvertImageDtype(torch.float),\n",
    "    # ])\n",
    "    transforms_val = T.Compose([\n",
    "        T.CenterCrop(128),\n",
    "        T.ToTensor(),\n",
    "        T.ConvertImageDtype(torch.float),\n",
    "    ])\n",
    "    tio_transforms = [\n",
    "        # tio.RandomMotion(degrees=3, translation=1, num_transforms=1),\n",
    "        # tio.RescaleIntensity(out_min_max=(0, 1)),\n",
    "        tio.RescaleIntensity(out_min_max=(0, 1), percentiles=(0.5, 99.5)),\n",
    "    ]\n",
    "\n",
    "    # TODO: Test-time Augmentation??\n",
    "    # val_dataset_aug = CMRxMOTION2DEval(DATA_PATH, transforms=transforms_tr)\n",
    "    val_dataset = CMRxMOTION2DEval(DATA_PATH,\n",
    "                                   transforms=transforms_val,\n",
    "                                   tio_transforms=tio_transforms)\n"
   ]
  },
  {
   "cell_type": "code",
   "execution_count": null,
   "metadata": {},
   "outputs": [],
   "source": [
    "# TODO: Test-time Augmentation??\n",
    "# val_aug_loader = torch.utils.data.DataLoader(\n",
    "#     val_dataset_aug,\n",
    "#     batch_size=BATCH_SIZE,\n",
    "#     shuffle=True,\n",
    "#     num_workers=4\n",
    "# )\n",
    "val_loader = torch.utils.data.DataLoader(\n",
    "    val_dataset,\n",
    "    batch_size=BATCH_SIZE,\n",
    "    shuffle=False,\n",
    "    num_workers=4\n",
    ")"
   ]
  },
  {
   "cell_type": "code",
   "execution_count": null,
   "metadata": {},
   "outputs": [],
   "source": [
    "def show(imgs):\n",
    "    fix, axs = plt.subplots(ncols=len(imgs), squeeze=False, figsize=(16, 16))\n",
    "    for i, img in enumerate(imgs):\n",
    "        img = T.ToPILImage()(img.to('cpu'))\n",
    "        axs[0, i].imshow(np.asarray(img))\n",
    "        axs[0, i].set(xticklabels=[], yticklabels=[], xticks=[], yticks=[])"
   ]
  },
  {
   "cell_type": "code",
   "execution_count": null,
   "metadata": {},
   "outputs": [],
   "source": [
    "# Samples from the train and the val splits\n",
    "# show([(val_dataset_aug.__getitem__(d))[0] for d in range(0, 4)])\n",
    "show([(val_dataset.__getitem__(d))[0] for d in range(0, 4)])\n",
    "# show([(val_dataset.__getitem__(d))[0] for d in range(4, 8)])\n",
    "# show([(val_dataset.__getitem__(d))[0] for d in range(8, 12)])\n",
    "# show([(val_dataset.__getitem__(d))[0] for d in range(12, 16)])\n",
    "# show([(val_dataset.__getitem__(d))[0] for d in range(16, 20)])\n"
   ]
  },
  {
   "cell_type": "code",
   "execution_count": null,
   "metadata": {},
   "outputs": [],
   "source": [
    "def eval_loop(model, val_loader, use_corn=False, use_coral=False):\n",
    "    model.eval()\n",
    "    \n",
    "    all_votes = defaultdict(lambda: [0, 0, 0])\n",
    "\n",
    "    preds = defaultdict(lambda: -1)\n",
    "    \n",
    "    with torch.no_grad():\n",
    "        for batch_idx, (data, pid, phase, depth, max_depth) in (enumerate(val_loader)):\n",
    "            data = data.to(DEVICE)\n",
    "\n",
    "            if USE_CORAL:\n",
    "                _, probas = model(data)\n",
    "            else:\n",
    "                output = model(data)\n",
    "\n",
    "            if USE_CORAL:\n",
    "                pred = proba_to_label(probas).unsqueeze(dim=1)\n",
    "            elif USE_CORN:\n",
    "                pred = corn_label_from_logits(output).unsqueeze(dim=1)\n",
    "            else:\n",
    "                # Get the index of the max log-probability.\n",
    "                pred = output.argmax(dim=1, keepdim=True)\n",
    "\n",
    "            # TODO: Max importance for mid, min importance\n",
    "            # for apex and basal slices for final decision\n",
    "            for i, (id, ph, d) in enumerate(zip(pid, phase, depth)):\n",
    "                filename = \"-\".join([id, ph])\n",
    "                # all_votes[filename][pred[i]] += torch.abs((max_depth[i] // 2 - d) / (max_depth[i] // 2))\n",
    "                all_votes[filename][pred[i]] += 1\n",
    "\n",
    "        for fn, vote in all_votes.items():\n",
    "            final_pred = torch.argmax(torch.Tensor([vote]), dim=1)\n",
    "            preds[fn] = final_pred.cpu().item() + 1\n",
    "            if vote[2] > 0:\n",
    "                preds[fn] = 3\n",
    "\n",
    "        all_votes = sorted(all_votes.items())\n",
    "        preds = sorted(preds.items())\n",
    "        \n",
    "        return all_votes, preds"
   ]
  },
  {
   "cell_type": "code",
   "execution_count": null,
   "metadata": {},
   "outputs": [],
   "source": [
    "def evaluate(val_loader):\n",
    "    # Model Initializer\n",
    "    model = get_model(MODEL_NAME, CLASSES, use_corn=USE_CORN, use_coral=USE_CORAL).to(DEVICE)\n",
    "    model.load_state_dict(torch.load(os.path.join(\"saved\", MODEL_TRAIN_DATE, MODEL_FILENAME)))\n",
    "\n",
    "    # Evaluation of the model.\n",
    "    all_votes, preds = eval_loop(model, val_loader, use_corn=USE_CORN, use_coral=USE_CORAL)\n",
    "\n",
    "    print(all_votes)\n",
    "    \n",
    "    # Save the predictions of the model\n",
    "    df = pd.DataFrame.from_dict(preds)\n",
    "    df.columns = [\"Image\", \"Label\"]\n",
    "    df.to_csv(os.path.join(\"saved\", MODEL_TRAIN_DATE, \"preds.csv\"), index=False)"
   ]
  },
  {
   "cell_type": "code",
   "execution_count": null,
   "metadata": {},
   "outputs": [],
   "source": [
    "evaluate(val_loader)"
   ]
  }
 ],
 "metadata": {
  "kernelspec": {
   "display_name": "Python 3.8.5 ('MasterThesis')",
   "language": "python",
   "name": "python3"
  },
  "language_info": {
   "codemirror_mode": {
    "name": "ipython",
    "version": 3
   },
   "file_extension": ".py",
   "mimetype": "text/x-python",
   "name": "python",
   "nbconvert_exporter": "python",
   "pygments_lexer": "ipython3",
   "version": "3.8.5"
  },
  "orig_nbformat": 4,
  "vscode": {
   "interpreter": {
    "hash": "8aebec5ff780d00b80daf94169789754ee86bc5a6e385c6908b34a15cf912e48"
   }
  }
 },
 "nbformat": 4,
 "nbformat_minor": 2
}
